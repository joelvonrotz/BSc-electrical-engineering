{
 "cells": [
  {
   "cell_type": "markdown",
   "metadata": {},
   "source": [
    "# Assignments"
   ]
  },
  {
   "cell_type": "code",
   "execution_count": 6,
   "metadata": {},
   "outputs": [],
   "source": [
    "import A1_XTEA, A2_XTEA_CBC\n",
    "\n",
    "KEY : bytes = bytes.fromhex('0123456789ABCDEF0123456789ABCDEF')\n",
    "DATA: bytes = 'hello world'.encode(\"ascii\")"
   ]
  },
  {
   "cell_type": "markdown",
   "metadata": {},
   "source": [
    "## xTEA"
   ]
  },
  {
   "cell_type": "code",
   "execution_count": 7,
   "metadata": {},
   "outputs": [
    {
     "name": "stdout",
     "output_type": "stream",
     "text": [
      "Success!\n"
     ]
    }
   ],
   "source": [
    "# get length of data\n",
    "length = len(DATA)\n",
    "# adjust length to fit blocksizes\n",
    "adjusted_length = (int((length - 1)/ 8) + 1) * 8\n",
    "\n",
    "# fill up remaining bytes with value 0\n",
    "input_data = DATA + b'\\00' * (adjusted_length - length)\n",
    "\n",
    "encrypted_data : bytes = b''\n",
    "decrypted_data : bytes = b''\n",
    "\n",
    "for round in range(int(adjusted_length/8)):\n",
    "  block = input_data[round*8:((round+1)*8)]\n",
    "  encrypted_data += A1_XTEA.xtea_encrypt(key=KEY, block=block)\n",
    "\n",
    "\n",
    "for round in range(int(adjusted_length/8)):\n",
    "  block = encrypted_data[round*8:((round+1)*8)]\n",
    "  decrypted_data += A1_XTEA.xtea_decrypt(key=KEY, block=block)\n",
    "\n",
    "print(\"Success!\") if decrypted_data == input_data else print(\"Failed!\")"
   ]
  },
  {
   "cell_type": "markdown",
   "metadata": {},
   "source": [
    "## xTEA + CBC"
   ]
  },
  {
   "cell_type": "code",
   "execution_count": 8,
   "metadata": {},
   "outputs": [
    {
     "name": "stdout",
     "output_type": "stream",
     "text": [
      "Success!\n"
     ]
    }
   ],
   "source": [
    "IV: bytes = b'deadbeef'\n",
    "\n",
    "# get length of data\n",
    "length = len(DATA)\n",
    "# adjust length to fit blocksizes\n",
    "adjusted_length = (int((length - 1)/ 8) + 1) * 8\n",
    "block_count = int(adjusted_length/8)\n",
    "\n",
    "# fill up remaining bytes with value 0\n",
    "input_data = DATA + b'\\00' * (adjusted_length - length)\n",
    "\n",
    "encrypted_data : bytes = b''\n",
    "decrypted_data : bytes = b''\n",
    "old_block : bytes = b''\n",
    "input_block : bytes = b''\n",
    "output_block : bytes = b''\n",
    "\n",
    "for round in range(block_count):\n",
    "  block = input_data[round*8:((round+1)*8)]\n",
    "\n",
    "  # first CBC operation\n",
    "  if round == 0:\n",
    "    input_block = A2_XTEA_CBC.cipher_block_chaining(block=block, old_block=b'', iv=IV, first=True)\n",
    "  else:\n",
    "    input_block = A2_XTEA_CBC.cipher_block_chaining(block=block, old_block=old_block, iv=IV, first=False)\n",
    "  # then enciphering\n",
    "  output_block = A1_XTEA.xtea_encrypt(key=KEY, block=input_block)\n",
    "  encrypted_data += output_block\n",
    "  old_block = output_block\n",
    "\n",
    "for round in range(block_count):\n",
    "  block = encrypted_data[(round)*8:((round+1)*8)]\n",
    "\n",
    "  # first deciphering\n",
    "  input_block = A1_XTEA.xtea_decrypt(key=KEY, block=block)\n",
    "\n",
    "  # then CBC operation\n",
    "  if round == 0:\n",
    "    output_block = A2_XTEA_CBC.cipher_block_chaining(block=input_block, old_block=b'', iv=IV, first=True)\n",
    "  else:\n",
    "    output_block = A2_XTEA_CBC.cipher_block_chaining(block=input_block, old_block=old_block, iv=IV, first=False)\n",
    "  old_block = block\n",
    "  decrypted_data += output_block\n",
    "\n",
    "print(\"Success!\") if decrypted_data == input_data else print(\"Failed!\")"
   ]
  },
  {
   "cell_type": "markdown",
   "metadata": {},
   "source": []
  }
 ],
 "metadata": {
  "kernelspec": {
   "display_name": "Python 3",
   "language": "python",
   "name": "python3"
  },
  "language_info": {
   "codemirror_mode": {
    "name": "ipython",
    "version": 3
   },
   "file_extension": ".py",
   "mimetype": "text/x-python",
   "name": "python",
   "nbconvert_exporter": "python",
   "pygments_lexer": "ipython3",
   "version": "3.12.0"
  }
 },
 "nbformat": 4,
 "nbformat_minor": 2
}
