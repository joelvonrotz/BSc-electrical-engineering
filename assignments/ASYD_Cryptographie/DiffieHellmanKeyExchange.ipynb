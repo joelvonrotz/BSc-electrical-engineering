{
 "cells": [
  {
   "cell_type": "code",
   "execution_count": 4,
   "metadata": {},
   "outputs": [],
   "source": [
    "import random as rnd"
   ]
  },
  {
   "cell_type": "markdown",
   "metadata": {},
   "source": [
    "# DHKE"
   ]
  },
  {
   "cell_type": "code",
   "execution_count": 21,
   "metadata": {},
   "outputs": [],
   "source": [
    "def getNBitRandom(n : int):\n",
    "  return rnd.randrange(2**(n-1)+1,2**(n)-1)\n",
    "\n",
    "def checkFirstTwentyPrimes(prime_candidate : int):\n",
    "\n",
    "  for prime in primes:\n",
    "    if (prime_candidate % prime) == 0:\n",
    "      return False\n",
    "  return True\n",
    "\n",
    "def generatePrime(n : int):\n",
    "  primes : list = [2, 3, 5, 7, 11, 13, 17, 19, 23, 29, 31, 37, 41, 43, 47, 53, 59, 61, 67, 71, 73, 79, 83, 89, 97, 101, 103, 107, 109, 113, 127, 131, 137, 139, 149, 151, 157, 163, 167, 173, 179, 181, 191, 193, 197, 199, 211, 223, 227, 229, 233, 239, 241, 251, 257, 263, 269, 271, 277, 281, 283, 293, 307, 311, 313, 317, 331, 337, 347, 349]\n",
    "  while True:\n",
    "    prime_candidate = getNBitRandom(1024)\n",
    "\n",
    "    for prime in primes:\n",
    "      if (prime_candidate % prime) == 0 and prime**2 <= prime_candidate:\n",
    "        return 0\n",
    "    return prime_candidate\n",
    "  "
   ]
  },
  {
   "cell_type": "code",
   "execution_count": 44,
   "metadata": {},
   "outputs": [
    {
     "data": {
      "text/plain": [
       "32"
      ]
     },
     "execution_count": 44,
     "metadata": {},
     "output_type": "execute_result"
    }
   ],
   "source": [
    "def squareAndMultiply(exponentH : int, baseX : int, modulusN: int):\n",
    "  y = 1\n",
    "\n",
    "  for i in range(exponentH.bit_length(),0,-1):\n",
    "    y = y**2 % modulusN\n",
    "\n",
    "    if(exponentH & 1 << (i-1)):\n",
    "      y = y * baseX % modulusN\n",
    "  return y\n",
    "\n"
   ]
  },
  {
   "cell_type": "code",
   "execution_count": 28,
   "metadata": {},
   "outputs": [],
   "source": [
    "prime : int = generatePrime(1024)\n",
    "a : int = rnd\n",
    "\n",
    "\n"
   ]
  },
  {
   "cell_type": "code",
   "execution_count": 34,
   "metadata": {},
   "outputs": [
    {
     "ename": "OverflowError",
     "evalue": "cannot fit 'int' into an index-sized integer",
     "output_type": "error",
     "traceback": [
      "\u001b[1;31m---------------------------------------------------------------------------\u001b[0m",
      "\u001b[1;31mOverflowError\u001b[0m                             Traceback (most recent call last)",
      "Cell \u001b[1;32mIn[34], line 4\u001b[0m\n\u001b[0;32m      1\u001b[0m prime : \u001b[38;5;28mint\u001b[39m \u001b[38;5;241m=\u001b[39m \u001b[38;5;241m0xBF2989816B33EDB3B18338FB40A7B84FEFC9585275304704C0E9178B3DDD685C0134555D483D0E53E3CB47E14555657E9EE26928BEA0745A45F3BC1D4ABFCE313B8BCE1B81A7CA983490FAF65F1C6E128CF00CF6CF150B1F5D4414478B483A5550AE6619707D32CA3821AB90C18603F9280CC067E0421A4FFFFB957A90F17431\u001b[39m \n\u001b[0;32m      2\u001b[0m a : \u001b[38;5;28mint\u001b[39m \u001b[38;5;241m=\u001b[39m rnd\u001b[38;5;241m.\u001b[39mrandrange(\u001b[38;5;241m2\u001b[39m, prime\u001b[38;5;241m-\u001b[39m\u001b[38;5;241m2\u001b[39m)\n\u001b[1;32m----> 4\u001b[0m \u001b[38;5;28mbytes\u001b[39m(prime)\n",
      "\u001b[1;31mOverflowError\u001b[0m: cannot fit 'int' into an index-sized integer"
     ]
    }
   ],
   "source": [
    "prime : int = 0xBF2989816B33EDB3B18338FB40A7B84FEFC9585275304704C0E9178B3DDD685C0134555D483D0E53E3CB47E14555657E9EE26928BEA0745A45F3BC1D4ABFCE313B8BCE1B81A7CA983490FAF65F1C6E128CF00CF6CF150B1F5D4414478B483A5550AE6619707D32CA3821AB90C18603F9280CC067E0421A4FFFFB957A90F17431 \n",
    "a : int = rnd.randrange(2, prime-2)\n",
    "\n"
   ]
  },
  {
   "cell_type": "markdown",
   "metadata": {},
   "source": [
    "2. "
   ]
  },
  {
   "cell_type": "markdown",
   "metadata": {},
   "source": [
    "## Square & Multiply"
   ]
  },
  {
   "cell_type": "markdown",
   "metadata": {},
   "source": []
  },
  {
   "cell_type": "markdown",
   "metadata": {},
   "source": []
  },
  {
   "cell_type": "markdown",
   "metadata": {},
   "source": []
  }
 ],
 "metadata": {
  "kernelspec": {
   "display_name": "base",
   "language": "python",
   "name": "python3"
  },
  "language_info": {
   "codemirror_mode": {
    "name": "ipython",
    "version": 3
   },
   "file_extension": ".py",
   "mimetype": "text/x-python",
   "name": "python",
   "nbconvert_exporter": "python",
   "pygments_lexer": "ipython3",
   "version": "3.11.5"
  }
 },
 "nbformat": 4,
 "nbformat_minor": 2
}
