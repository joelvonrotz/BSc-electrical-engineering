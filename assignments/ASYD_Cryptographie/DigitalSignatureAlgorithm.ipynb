{
 "cells": [
  {
   "cell_type": "code",
   "execution_count": 5,
   "metadata": {},
   "outputs": [],
   "source": [
    "import random as rnd\n",
    "import cryptography as crypto"
   ]
  },
  {
   "cell_type": "markdown",
   "metadata": {},
   "source": [
    "# Digital Signature Algorithm"
   ]
  },
  {
   "cell_type": "code",
   "execution_count": 6,
   "metadata": {},
   "outputs": [],
   "source": [
    "# Large Prime Generation for RSA (https://www.geeksforgeeks.org/how-to-generate-large-prime-numbers-for-rsa-algorithm/)\n",
    "# Pre generated primes\n",
    "first_primes_list = [2, 3, 5, 7, 11, 13, 17, 19, 23, 29,\n",
    "                    31, 37, 41, 43, 47, 53, 59, 61, 67,\n",
    "                    71, 73, 79, 83, 89, 97, 101, 103,\n",
    "                    107, 109, 113, 127, 131, 137, 139,\n",
    "                    149, 151, 157, 163, 167, 173, 179,\n",
    "                    181, 191, 193, 197, 199, 211, 223,\n",
    "                    227, 229, 233, 239, 241, 251, 257,\n",
    "                    263, 269, 271, 277, 281, 283, 293,\n",
    "                    307, 311, 313, 317, 331, 337, 347, 349]\n",
    "\n",
    "\n",
    "def nBitRandom(n):\n",
    "    return rnd.randrange(2**(n-1)+1, 2**n - 1)\n",
    "\n",
    "def getLowLevelPrime(n):\n",
    "    '''Generate a prime candidate divisible \n",
    "    by first primes'''\n",
    "    while True:\n",
    "        # Obtain a random number\n",
    "        pc = nBitRandom(n)\n",
    "\n",
    "        # Test divisibility by pre-generated\n",
    "        # primes\n",
    "        for divisor in first_primes_list:\n",
    "            if pc % divisor == 0 and divisor**2 <= pc:\n",
    "                break\n",
    "        else:\n",
    "            return pc\n",
    "\n",
    "def isMillerRabinPassed(mrc):\n",
    "    '''Run 20 iterations of Rabin Miller Primality test'''\n",
    "    maxDivisionsByTwo = 0\n",
    "    ec = mrc-1\n",
    "    while ec % 2 == 0:\n",
    "        ec >>= 1\n",
    "        maxDivisionsByTwo += 1\n",
    "    assert(2**maxDivisionsByTwo * ec == mrc-1)\n",
    "\n",
    "    def trialComposite(round_tester):\n",
    "        if pow(round_tester, ec, mrc) == 1:\n",
    "            return False\n",
    "        for i in range(maxDivisionsByTwo):\n",
    "            if pow(round_tester, 2**i * ec, mrc) == mrc-1:\n",
    "                return False\n",
    "        return True\n",
    "\n",
    "    # Set number of trials here\n",
    "    numberOfRabinTrials = 20\n",
    "    for i in range(numberOfRabinTrials):\n",
    "        round_tester = rnd.randrange(2, mrc)\n",
    "        if trialComposite(round_tester):\n",
    "            return False\n",
    "    return True"
   ]
  },
  {
   "cell_type": "code",
   "execution_count": 19,
   "metadata": {},
   "outputs": [
    {
     "name": "stdout",
     "output_type": "stream",
     "text": [
      "1024 bit prime is:  0xfa2f5395c28af00f0a69de25e572cd13fc590b2bfbf24de6c2f81a78a981d23abedad5cc2cea9ac6145c5e46fe43e8937370d4eef3dd82007b4e83d145e6c61a82c1d409790b90c61ca45980af3769b0f74bc4baf51ee00e92515f88d252f75a5afae3986cdf70bc1356d0c3d85fae02496c9c0bd9e2d90d0432daa3d40f3d8d \n",
      "\n"
     ]
    },
    {
     "ename": "KeyboardInterrupt",
     "evalue": "",
     "output_type": "error",
     "traceback": [
      "\u001b[1;31m---------------------------------------------------------------------------\u001b[0m",
      "\u001b[1;31mKeyboardInterrupt\u001b[0m                         Traceback (most recent call last)",
      "Cell \u001b[1;32mIn[19], line 17\u001b[0m\n\u001b[0;32m     15\u001b[0m n \u001b[38;5;241m=\u001b[39m \u001b[38;5;241m160\u001b[39m\n\u001b[0;32m     16\u001b[0m prime_divisor_candidate \u001b[38;5;241m=\u001b[39m getLowLevelPrime(n)\n\u001b[1;32m---> 17\u001b[0m \u001b[38;5;28;01mif\u001b[39;00m \u001b[38;5;129;01mnot\u001b[39;00m \u001b[43misMillerRabinPassed\u001b[49m\u001b[43m(\u001b[49m\u001b[43mprime_candidate\u001b[49m\u001b[43m)\u001b[49m \u001b[38;5;129;01mor\u001b[39;00m (prime \u001b[38;5;241m%\u001b[39m prime_divisor_candidate) \u001b[38;5;241m!=\u001b[39m \u001b[38;5;241m0\u001b[39m:\n\u001b[0;32m     18\u001b[0m     \u001b[38;5;28;01mcontinue\u001b[39;00m\n\u001b[0;32m     19\u001b[0m \u001b[38;5;28;01melse\u001b[39;00m:\n",
      "Cell \u001b[1;32mIn[6], line 53\u001b[0m, in \u001b[0;36misMillerRabinPassed\u001b[1;34m(mrc)\u001b[0m\n\u001b[0;32m     51\u001b[0m \u001b[38;5;28;01mfor\u001b[39;00m i \u001b[38;5;129;01min\u001b[39;00m \u001b[38;5;28mrange\u001b[39m(numberOfRabinTrials):\n\u001b[0;32m     52\u001b[0m     round_tester \u001b[38;5;241m=\u001b[39m rnd\u001b[38;5;241m.\u001b[39mrandrange(\u001b[38;5;241m2\u001b[39m, mrc)\n\u001b[1;32m---> 53\u001b[0m     \u001b[38;5;28;01mif\u001b[39;00m \u001b[43mtrialComposite\u001b[49m\u001b[43m(\u001b[49m\u001b[43mround_tester\u001b[49m\u001b[43m)\u001b[49m:\n\u001b[0;32m     54\u001b[0m         \u001b[38;5;28;01mreturn\u001b[39;00m \u001b[38;5;28;01mFalse\u001b[39;00m\n\u001b[0;32m     55\u001b[0m \u001b[38;5;28;01mreturn\u001b[39;00m \u001b[38;5;28;01mTrue\u001b[39;00m\n",
      "Cell \u001b[1;32mIn[6], line 45\u001b[0m, in \u001b[0;36misMillerRabinPassed.<locals>.trialComposite\u001b[1;34m(round_tester)\u001b[0m\n\u001b[0;32m     43\u001b[0m     \u001b[38;5;28;01mreturn\u001b[39;00m \u001b[38;5;28;01mFalse\u001b[39;00m\n\u001b[0;32m     44\u001b[0m \u001b[38;5;28;01mfor\u001b[39;00m i \u001b[38;5;129;01min\u001b[39;00m \u001b[38;5;28mrange\u001b[39m(maxDivisionsByTwo):\n\u001b[1;32m---> 45\u001b[0m     \u001b[38;5;28;01mif\u001b[39;00m \u001b[38;5;28mpow\u001b[39m(round_tester, \u001b[38;5;241m2\u001b[39m\u001b[38;5;241m*\u001b[39m\u001b[38;5;241m*\u001b[39mi \u001b[38;5;241m*\u001b[39m ec, mrc) \u001b[38;5;241m==\u001b[39m mrc\u001b[38;5;241m-\u001b[39m\u001b[38;5;241m1\u001b[39m:\n\u001b[0;32m     46\u001b[0m         \u001b[38;5;28;01mreturn\u001b[39;00m \u001b[38;5;28;01mFalse\u001b[39;00m\n\u001b[0;32m     47\u001b[0m \u001b[38;5;28;01mreturn\u001b[39;00m \u001b[38;5;28;01mTrue\u001b[39;00m\n",
      "\u001b[1;31mKeyboardInterrupt\u001b[0m: "
     ]
    }
   ],
   "source": [
    "prime_candidate : int = 0\n",
    "\n",
    "while True:\n",
    "    n = 1024\n",
    "    prime_candidate = getLowLevelPrime(n)\n",
    "    if not isMillerRabinPassed(prime_candidate):\n",
    "        continue\n",
    "    else:\n",
    "        print(n, \"bit prime is: \", hex(prime_candidate), \"\\n\")\n",
    "        break\n",
    "\n",
    "prime : int = prime_candidate\n",
    "\n",
    "while True:\n",
    "    n = 160\n",
    "    prime_divisor_candidate = getLowLevelPrime(n)\n",
    "    if not isMillerRabinPassed(prime_candidate) or (prime % prime_divisor_candidate) != 0:\n",
    "        continue\n",
    "    else:\n",
    "        print(n, \"bit prime divisor is: \", hex(prime_divisor_candidate), \"\\n\")\n",
    "        break\n",
    "\n",
    "q : int = prime_divisor_candidate"
   ]
  },
  {
   "cell_type": "code",
   "execution_count": 33,
   "metadata": {},
   "outputs": [],
   "source": [
    "def verifyOrder(q : int, a : int):\n",
    "  for k in range(1, q-1): # if the order is the 29th element (k == 28), then it is fine\n",
    "    if (a**k % q) == 1:\n",
    "      return False\n",
    "    else:\n",
    "      continue\n",
    "  return True"
   ]
  },
  {
   "cell_type": "code",
   "execution_count": 46,
   "metadata": {},
   "outputs": [
    {
     "data": {
      "text/plain": [
       "[59, 29, 3, 4]"
      ]
     },
     "execution_count": 46,
     "metadata": {},
     "output_type": "execute_result"
    }
   ],
   "source": [
    "prime_p : int = 59\n",
    "prime_divisor_q : int = 29\n",
    "alpha : int = rnd.randint(2, 2**1024)\n",
    "\n",
    "_bob_key : int = rnd.randint(0,prime_divisor_q)\n",
    "\n",
    "while True:\n",
    "  if(verifyOrder(29,alpha)):\n",
    "    break;\n",
    "  else:\n",
    "    alpha : int = rnd.randint(2, 2**1024)\n",
    "\n",
    "alpha = 3\n",
    "_bob_key = 7\n",
    "beta = (alpha**_bob_key) % prime_p\n",
    "\n",
    "[prime_p, prime_divisor_q, alpha, beta]"
   ]
  },
  {
   "cell_type": "markdown",
   "metadata": {},
   "source": [
    "**Sign Bob**"
   ]
  },
  {
   "cell_type": "code",
   "execution_count": null,
   "metadata": {},
   "outputs": [],
   "source": [
    "def getInverse(val : int):\n",
    "  for x in range(1,29)\n",
    "  return"
   ]
  },
  {
   "cell_type": "code",
   "execution_count": 48,
   "metadata": {},
   "outputs": [],
   "source": [
    "H = 26\n",
    "\n",
    "_kE : int = 10\n",
    "r = (alpha**_kE % prime_p) % prime_divisor_q\n",
    "s = (H + _bob_key * r) * getInverse(_kE)"
   ]
  },
  {
   "cell_type": "markdown",
   "metadata": {},
   "source": [
    "2. "
   ]
  },
  {
   "cell_type": "markdown",
   "metadata": {},
   "source": [
    "## Square & Multiply"
   ]
  },
  {
   "cell_type": "markdown",
   "metadata": {},
   "source": []
  },
  {
   "cell_type": "markdown",
   "metadata": {},
   "source": []
  },
  {
   "cell_type": "markdown",
   "metadata": {},
   "source": []
  }
 ],
 "metadata": {
  "kernelspec": {
   "display_name": "base",
   "language": "python",
   "name": "python3"
  },
  "language_info": {
   "codemirror_mode": {
    "name": "ipython",
    "version": 3
   },
   "file_extension": ".py",
   "mimetype": "text/x-python",
   "name": "python",
   "nbconvert_exporter": "python",
   "pygments_lexer": "ipython3",
   "version": "3.12.0"
  }
 },
 "nbformat": 4,
 "nbformat_minor": 2
}
